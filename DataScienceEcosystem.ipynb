{
  "metadata": {
    "kernelspec": {
      "name": "python",
      "display_name": "Python (Pyodide)",
      "language": "python"
    },
    "language_info": {
      "codemirror_mode": {
        "name": "python",
        "version": 3
      },
      "file_extension": ".py",
      "mimetype": "text/x-python",
      "name": "python",
      "nbconvert_exporter": "python",
      "pygments_lexer": "ipython3",
      "version": "3.8"
    }
  },
  "nbformat_minor": 5,
  "nbformat": 4,
  "cells": [
    {
      "id": "0201d332-497d-4e7a-93b7-ed2cfe374cd8",
      "cell_type": "markdown",
      "source": "# Data Science Tools and Ecosystem",
      "metadata": {}
    },
    {
      "id": "6dd64d94-cc9c-4ffd-9c48-aae6b081afc7",
      "cell_type": "markdown",
      "source": "In this notebook, Data Science Tools and Ecosystem are summarized.",
      "metadata": {}
    },
    {
      "id": "4963b57f-25af-44d5-b9f5-31411828f83e",
      "cell_type": "markdown",
      "source": "**Objectives:**\n\n- List popular languages for Data Science\n- Identify commonly used libraries in Data Science\n- Introduce Data Science tools\n- Demonstrate basic arithmetic operations in Python\n- Convert time units using Python\n",
      "metadata": {}
    },
    {
      "id": "b69ead78-ee91-4031-b3d6-951503452f70",
      "cell_type": "markdown",
      "source": "Some of the popular languages that Data Scientists use are:\n\n1. Python\n2. R\n3. SQL\n4. Julia\n5. Java\n",
      "metadata": {}
    },
    {
      "id": "733f4f26-0287-4187-9ace-9df2bde67f05",
      "cell_type": "markdown",
      "source": "Some of the commonly used libraries used by Data Scientists include:\n\n1. Pandas\n2. NumPy\n3. Scikit-learn\n4. TensorFlow\n5. Matplotlib\n",
      "metadata": {}
    },
    {
      "id": "b8b8de7e-7a48-4b19-ac6a-0e1424245e1a",
      "cell_type": "markdown",
      "source": "| Data Science Tools |\n|--------------------|\n| Jupyter Notebook  |\n| RStudio           |\n| Apache Zeppelin   |\n",
      "metadata": {}
    },
    {
      "id": "882be3fc-9fa8-4183-a0ee-f06a9aee4870",
      "cell_type": "markdown",
      "source": "### Below are a few examples of evaluating arithmetic expressions in Python.\n",
      "metadata": {}
    },
    {
      "id": "e4cc952c-b60d-4cd2-980c-9b636be8e94e",
      "cell_type": "code",
      "source": "# This a simple arithmetic expression to multiply then add integers\n(3 * 4) + 5\n",
      "metadata": {
        "trusted": true
      },
      "outputs": [
        {
          "execution_count": 2,
          "output_type": "execute_result",
          "data": {
            "text/plain": "17"
          },
          "metadata": {}
        }
      ],
      "execution_count": 2
    },
    {
      "id": "3bf3f23c-8a1e-4bc9-9c1d-d8f3564235be",
      "cell_type": "code",
      "source": "# This will convert 200 minutes to hours by dividing by 60\n200 / 60\n",
      "metadata": {
        "trusted": true
      },
      "outputs": [
        {
          "execution_count": 3,
          "output_type": "execute_result",
          "data": {
            "text/plain": "3.3333333333333335"
          },
          "metadata": {}
        }
      ],
      "execution_count": 3
    },
    {
      "id": "04554d7b-1670-4d54-be1a-33a20680a288",
      "cell_type": "markdown",
      "source": "## Author\nMohamed Anas Pathan\n",
      "metadata": {}
    },
    {
      "id": "aad95748-3330-4a0e-9940-d191f02ab894",
      "cell_type": "code",
      "source": "",
      "metadata": {
        "trusted": true
      },
      "outputs": [],
      "execution_count": null
    }
  ]
}